{
 "cells": [
  {
   "cell_type": "code",
   "execution_count": 2,
   "metadata": {},
   "outputs": [],
   "source": [
    "from pykoa.koa import Koa\n",
    "import os\n",
    "from astropy.table import Table, Column"
   ]
  },
  {
   "cell_type": "code",
   "execution_count": 3,
   "metadata": {},
   "outputs": [
    {
     "name": "stdout",
     "output_type": "stream",
     "text": [
      "submitting request...\n",
      "Result downloaded to file [/u/bdigia/work/ao/airopa_input/nirc2_search_2014-09-10.tbl]\n"
     ]
    }
   ],
   "source": [
    "date = '2014-09-10'\n",
    "# os.chdir(f'/u/bdigia/work/ao/airopa_input/{date}nirc2_kp/')\n",
    "Koa.query_date('nirc2', f'{date}', f'/u/bdigia/work/ao/airopa_input/nirc2_search_{date}.tbl', overwrite=True, format='ipac')"
   ]
  },
  {
   "cell_type": "code",
   "execution_count": 4,
   "metadata": {},
   "outputs": [],
   "source": [
    "rec = Table.read(f'/u/bdigia/work/ao/airopa_input/nirc2_search_{date}.tbl', format='ipac')"
   ]
  },
  {
   "cell_type": "code",
   "execution_count": 5,
   "metadata": {},
   "outputs": [
    {
     "name": "stdout",
     "output_type": "stream",
     "text": [
      "        koaid          instrume  targname  ... slitmm slitname slsname\n",
      "                                           ...   mm                   \n",
      "---------------------- -------- ---------- ... ------ -------- -------\n",
      "N2.20140910.13710.fits    NIRC2         -- ...    0.0     none   clear\n",
      "N2.20140910.13763.fits    NIRC2         -- ...    0.0     none   clear\n",
      "N2.20140910.13985.fits    NIRC2         -- ...    0.0     none   clear\n",
      "N2.20140910.14039.fits    NIRC2         -- ...    0.0     none   clear\n",
      "N2.20140910.14088.fits    NIRC2         -- ...    0.0     none   clear\n",
      "N2.20140910.14131.fits    NIRC2         -- ...    0.0     none   clear\n",
      "N2.20140910.14170.fits    NIRC2         -- ...    0.0     none   clear\n",
      "N2.20140910.37196.fits    NIRC2 engv10_574 ...    0.0     none   clear\n",
      "N2.20140910.37222.fits    NIRC2 engv10_574 ...    0.0     none   clear\n",
      "N2.20140910.37253.fits    NIRC2 engv10_574 ...    0.0     none   clear\n",
      "N2.20140910.37281.fits    NIRC2 engv10_574 ...    0.0     none   clear\n",
      "N2.20140910.37392.fits    NIRC2 engv10_574 ...    0.0     none   clear\n",
      "N2.20140910.37419.fits    NIRC2 engv10_574 ...    0.0     none   clear\n",
      " koaimtyp\n",
      "---------\n",
      "undefined\n",
      "undefined\n",
      "undefined\n",
      "undefined\n",
      "undefined\n",
      "undefined\n",
      "undefined\n",
      "   object\n",
      "   object\n",
      "   object\n",
      "   object\n",
      "   object\n",
      "   object\n"
     ]
    }
   ],
   "source": [
    "print(rec)\n",
    "print(rec['koaimtyp'])"
   ]
  },
  {
   "cell_type": "code",
   "execution_count": 12,
   "metadata": {},
   "outputs": [
    {
     "name": "stdout",
     "output_type": "stream",
     "text": [
      "Start downloading 6 koaid data you requested;\n",
      "please check your outdir: dnload_dir_nirc2_calib0 for  progress ....\n",
      "\n",
      "A total of 6 new lev0 FITS files downloaded.\n",
      "6 new calibration list downloaded.\n",
      "7 new calibration FITS files downloaded.\n"
     ]
    }
   ],
   "source": [
    "Koa.download(f'/u/bdigia/work/ao/airopa_input/nirc2_search_{date}.tbl', \\\n",
    "    'ipac', \\\n",
    "    f'/u/bdigia/work/ao/airopa_input/dnload_dir_nirc2_calib0_{date}', \\\n",
    "    start_row=80, \\\n",
    "    end_row=86, \\\n",
    "    lev1file=0, \\\n",
    "    calibfile=1, \\\n",
    "    calibdir=1)"
   ]
  },
  {
   "cell_type": "code",
   "execution_count": null,
   "metadata": {},
   "outputs": [],
   "source": []
  }
 ],
 "metadata": {
  "kernelspec": {
   "display_name": "astro",
   "language": "python",
   "name": "python3"
  },
  "language_info": {
   "codemirror_mode": {
    "name": "ipython",
    "version": 3
   },
   "file_extension": ".py",
   "mimetype": "text/x-python",
   "name": "python",
   "nbconvert_exporter": "python",
   "pygments_lexer": "ipython3",
   "version": "3.11.0"
  }
 },
 "nbformat": 4,
 "nbformat_minor": 2
}
